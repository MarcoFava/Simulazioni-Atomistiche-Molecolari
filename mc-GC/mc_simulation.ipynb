{
 "cells": [
  {
   "cell_type": "code",
   "execution_count": 1,
   "id": "d7cc61ed",
   "metadata": {},
   "outputs": [],
   "source": [
    "import numpy as np\n",
    "import random as rnd\n",
    "import time\n",
    "\n",
    "import matplotlib.pyplot as plt\n",
    "import pantarei as rei\n",
    "\n",
    "import src.system as sys\n",
    "import src.interaction as interaction\n",
    "import src.MonteCarlo as mc\n",
    "\n",
    "from src.simulation_module import plot_val_over_NMC, visualize_3dmol # simulation, \n",
    "\n",
    "# simulation = rei.Task(simulation,clear_first=True)\n",
    "\n",
    "# job = rei.Job(simulation)\n",
    "\n",
    "scheduler = rei.scheduler.ThreadScheduler(backend='process')\n",
    "# job = rei.Thread(simulation, scheduler=scheduler)"
   ]
  },
  {
   "cell_type": "code",
   "execution_count": 2,
   "id": "4adcf1c8",
   "metadata": {},
   "outputs": [],
   "source": [
    "# setup default parameters\n",
    "param_interact=None\n",
    "param_sys=None\n",
    "mc_par_over_box=0.1\n",
    "N = 0\n",
    "configuration='fcc'#'cubic'#\n",
    "\n",
    "parameters_interaction = dict()\n",
    "if param_interact is None:\n",
    "    parameters_interaction['sigma'] = 1.0       # Unità di misura di lunghezza\n",
    "    parameters_interaction['epsilon'] = 1.0     # Unità di misura di energia\n",
    "\n",
    "    parameters_interaction['rcut'] = 2.5*1.0    # Distanza di taglio per il potenziale cut and shift\n",
    "else:\n",
    "    parameters_interaction = param_interact\n",
    "\n",
    "parameters_system = dict()\n",
    "parameters_system['tot_N'] = 1000\n",
    "if param_sys is None:\n",
    "    M = 5                                               # Cells per side\n",
    "    a = 1.0                                             # Lattice spacing\n",
    "    box = 3\n",
    "    n = box**3*4                                        # 4, 32, 108, 256, 500, 864, 1372\n",
    "    if configuration == 'cubic':\n",
    "        parameters_system['M'] = M\n",
    "        parameters_system['a'] = a\n",
    "        N = M**3\n",
    "    elif configuration == 'fcc':\n",
    "        parameters_system['n'] = n\n",
    "        parameters_system['box'] = box\n",
    "        N  = n\n",
    "else:\n",
    "    parameters_system = param_sys"
   ]
  },
  {
   "cell_type": "code",
   "execution_count": null,
   "id": "33e6395c",
   "metadata": {},
   "outputs": [
    {
     "name": "stdout",
     "output_type": "stream",
     "text": [
      "29.310444593429565\n",
      "263 0.007003501750875438\n",
      "displacement    -> 35%\n",
      "insertion       -> 35%\n",
      "removal         -> 31%\n",
      "25.91396951675415\n"
     ]
    }
   ],
   "source": [
    "# def time_tries(steps):\n",
    "#     temperature = 1.\n",
    "#     volume = 7**3\n",
    "#     z = 0.05\n",
    "#     density = N / volume\n",
    "\n",
    "#     interact = interaction.Interaction(parameters_interaction, potential='lj_c')#,flags='-fbounds-check')\n",
    "\n",
    "#     my_sys = sys.System(temperature, z, interact, parameters_system, config=configuration)\n",
    "#     my_sys.density = density\n",
    "#     montecarlo = mc.MonteCarlo(my_sys, interact)\n",
    "#     # rnd.seed(seed)\n",
    "\n",
    "#     t0 = time.time()\n",
    "#     for _ in range(int(steps)):\n",
    "#         montecarlo.run()\n",
    "#     print(time.time() - t0)\n",
    "#     print(my_sys.current_N,montecarlo.accept_ratio)\n",
    "#     return {\n",
    "#             # 'sec 0': montecarlo.t_counter_d_0, \n",
    "#             # 'sec 1': montecarlo.t_counter_d_1, \n",
    "#             # 'sec 2': montecarlo.t_counter_d_2, \n",
    "#             'displacement': montecarlo.t_counter_i, \n",
    "#             'insertion': montecarlo.t_counter_i, \n",
    "#             'removal': montecarlo.t_counter_r,\n",
    "#             # 'energy': montecarlo.t_counter_E,\n",
    "#             # 'pbc': montecarlo.t_counter_pbc,\n",
    "#             # 'exp': montecarlo.t_counter_exp\n",
    "#     }\n",
    "\n",
    "# task = rei.Task(time_tries,clear_first=True)\n",
    "# task = rei.Task(time_tries)#,clear_first=True)\n",
    "# # data = task(steps=4e3+10) # 0-no E, 1-dis, 2-ins, 3-rem, 4-tot, 5-pbc, 6-exp, 7-only disp\n",
    "# data = task(steps=5e3+14) # 8-sections disp, 10-njit disp, 11-njit exp, 12-njit ins, 13\n",
    "# sum = 0\n",
    "# for key in data.keys(): sum += data[key]\n",
    "# for key in data.keys(): print(f'{key:15} -> {data[key]/sum*100:.0f}%')\n",
    "# print(sum)\n",
    "\n",
    "# # data = task(steps=5e3+10) # 8-sections disp, 10-njit\n",
    "# # print(data)\n",
    "# # sum = 0\n",
    "# # for key in data.keys():\n",
    "# #     sum += data[key]\n",
    "# # sum\n",
    "\n",
    "# # data = task(steps=5e3+11) # 8-sections disp, 10-njit\n",
    "# # print(data)\n",
    "# # sum = 0\n",
    "# # for key in data.keys():\n",
    "# #     sum += data[key]\n",
    "# # sum"
   ]
  },
  {
   "cell_type": "code",
   "execution_count": 96,
   "id": "8f83c563",
   "metadata": {},
   "outputs": [],
   "source": [
    "def simulation_GC(temperature,volume,z,steps,seed):\n",
    "    density = N / volume\n",
    "\n",
    "    interact = interaction.Interaction(parameters_interaction, potential='lj_c')#,flags='-fbounds-check')\n",
    "\n",
    "    my_sys = sys.System(temperature, z, interact, parameters_system, config=configuration)\n",
    "    my_sys.density = density\n",
    "    montecarlo = mc.MonteCarlo(my_sys, interact)\n",
    "    rnd.seed(seed)\n",
    "\n",
    "    tot_time = 0\n",
    "    t0 = time.time()\n",
    "    P,E,d = [], [], []\n",
    "    for i in range(int(steps)):\n",
    "        montecarlo.run()\n",
    "        if i%(int(steps/20)) == 0: \n",
    "            print(f'Progress {seed}: {int(i/steps*100)}%, N={my_sys.current_N}, d={my_sys.density}')\n",
    "        if i%100 == 0:\n",
    "            E.append(my_sys.energy)\n",
    "            P.append(my_sys.pressure)\n",
    "            d.append(my_sys.density)\n",
    "\n",
    "            t1 = time.time()\n",
    "            tot_time += (t1-t0)/my_sys.current_N\n",
    "            t0 = t1\n",
    "    \n",
    "    acceptance = dict()\n",
    "    acceptance['accept_ratio'] = montecarlo.accept_ratio\n",
    "    acceptance['accepted_moves_d'] = montecarlo.accepted_moves_d\n",
    "    acceptance['accepted_moves_i'] = montecarlo.accepted_moves_i\n",
    "    acceptance['accepted_moves_r'] = montecarlo.accepted_moves_r\n",
    "    acceptance['tot_mc_moves'] = montecarlo.tot_mc_moves\n",
    "\n",
    "    return {'pressure':P, 'energy': E, 'density': d,\n",
    "            'tot_time': tot_time/steps,\n",
    "            'acceptance': acceptance}\n",
    "            # 'system': my_sys, 'montecarlo': montecarlo}\n",
    "\n",
    "task = rei.Task(simulation_GC,clear_first=True)\n",
    "task = rei.Task(simulation_GC)\n",
    "job = rei.Thread(task, scheduler=scheduler)\n",
    "# job = simulation_GC\n",
    "\n",
    "###################################################################################\n",
    "steps = 2e5\n",
    "steps = 2.5e4\n",
    "volume = 8.735**3\n",
    "# temperature = 1.21\n",
    "# temperature = 1.19\n",
    "temperature = 1.18\n",
    "temperature = 1.175\n",
    "temperature = 1.173\n",
    "# temperatures = [1.21, 1.19, 1.17, 1.15]\n",
    "# z = 0.067\n",
    "# z = 0.065\n",
    "# z = 0.064\n",
    "# z = 0.061\n",
    "# z = 0.060\n",
    "z = 0.0625\n",
    "# z = 0.062\n",
    "\n",
    "z_s = [0.060+0.0001*k for k in range(11)]\n",
    "\n",
    "# data = simulation()\n",
    "# data = task(temperature=temperature,volume=volume,z=z,steps=steps,seed=s)\n",
    "for z in z_s:\n",
    "    for s in [1,2,3,4]:\n",
    "        data = job(temperature=temperature,volume=volume,z=z,steps=steps,seed=s)"
   ]
  },
  {
   "cell_type": "code",
   "execution_count": 4,
   "id": "7a8f5590",
   "metadata": {},
   "outputs": [
    {
     "ename": "TypeError",
     "evalue": "Algorithm.initialize_parameters() missing 1 required positional argument: 'self'",
     "output_type": "error",
     "traceback": [
      "\u001b[0;31m---------------------------------------------------------------------------\u001b[0m",
      "\u001b[0;31mTypeError\u001b[0m                                 Traceback (most recent call last)",
      "Cell \u001b[0;32mIn[4], line 5\u001b[0m\n\u001b[1;32m      3\u001b[0m new_algo \u001b[38;5;241m=\u001b[39m algo\u001b[38;5;241m.\u001b[39mAlgorithm\n\u001b[1;32m      4\u001b[0m \u001b[38;5;66;03m# new_algo.run_simulation(steps=10)\u001b[39;00m\n\u001b[0;32m----> 5\u001b[0m \u001b[43mnew_algo\u001b[49m\u001b[38;5;241;43m.\u001b[39;49m\u001b[43minitialize_parameters\u001b[49m\u001b[43m(\u001b[49m\u001b[43m)\u001b[49m\n",
      "\u001b[0;31mTypeError\u001b[0m: Algorithm.initialize_parameters() missing 1 required positional argument: 'self'"
     ]
    }
   ],
   "source": [
    "import src.algorithm as algo\n",
    "\n",
    "new_algo = algo.Algorithm\n",
    "# new_algo.run_simulation(steps=10)\n",
    "new_algo.initialize_parameters()"
   ]
  },
  {
   "cell_type": "code",
   "execution_count": 111,
   "id": "3cfa358f",
   "metadata": {},
   "outputs": [
    {
     "data": {
      "image/png": "[encoded data removed]",
      "text/plain": [
       "<Figure size 640x480 with 1 Axes>"
      ]
     },
     "metadata": {},
     "output_type": "display_data"
    }
   ],
   "source": [
    "# temperature = 1.175\n",
    "temperature = 1.173\n",
    "# z_s = [0.062+0.0001*k for k in range(11)]\n",
    "z_s = [0.060+0.0001*k for k in range(11)]\n",
    "\n",
    "densities = []\n",
    "for z in z_s:\n",
    "    d=[]\n",
    "    for s in [1,2,3,4]:\n",
    "        data = job(temperature=temperature,volume=volume,z=z,steps=steps,seed=s)\n",
    "        d += data['density']\n",
    "    densities.append(np.mean(d))\n",
    "    \n",
    "plt.plot(z_s,densities)\n",
    "plt.grid()"
   ]
  },
  {
   "cell_type": "code",
   "execution_count": 107,
   "id": "dd6f9d72",
   "metadata": {},
   "outputs": [],
   "source": [
    "# rei.report()"
   ]
  },
  {
   "cell_type": "code",
   "execution_count": 105,
   "id": "6a965a97",
   "metadata": {},
   "outputs": [
    {
     "name": "stdout",
     "output_type": "stream",
     "text": [
      "Acceptance ratio: 0.18\n",
      "Acceptance ratio: 0.16\n",
      "Acceptance ratio: 0.3\n",
      "Acceptance ratio: 0.16\n"
     ]
    },
    {
     "data": {
      "text/plain": [
       "0.30312275340406597"
      ]
     },
     "execution_count": 105,
     "metadata": {},
     "output_type": "execute_result"
    },
    {
     "data": {
      "image/png": "[encoded data removed]",
      "text/plain": [
       "<Figure size 640x480 with 1 Axes>"
      ]
     },
     "metadata": {},
     "output_type": "display_data"
    }
   ],
   "source": [
    "# data['acceptance']['accepted_moves_d']/data['acceptance']['tot_mc_moves']*3\n",
    "\n",
    "# E = data['energy']\n",
    "# P = data['pressure']\n",
    "# d = data['energy']\n",
    "# print(f\"Acceptance ratio: {data['acceptance']['accept_ratio']:.2}\")\n",
    "\n",
    "z = 0.064\n",
    "z = 0.0622\n",
    "# z = 0.0625\n",
    "\n",
    "d = []\n",
    "for s in [1,2,3,4]:\n",
    "    data = job(temperature=temperature,volume=volume,z=z,steps=steps,seed=s)\n",
    "    d += data['density']\n",
    "    print(f\"Acceptance ratio: {data['acceptance']['accept_ratio']:.2}\")\n",
    "\n",
    "\n",
    "# plot_val_over_NMC(d,x_multipl=100,ylabel='Density')\n",
    "plt.hist(d,20)\n",
    "np.mean(d)"
   ]
  },
  {
   "cell_type": "code",
   "execution_count": null,
   "id": "620f4217",
   "metadata": {},
   "outputs": [
    {
     "name": "stdout",
     "output_type": "stream",
     "text": [
      "{'energy': True, 'pressure': False, 'density': False, 'N': True}\n"
     ]
    },
    {
     "ename": "TypeError",
     "evalue": "'int' object is not subscriptable",
     "output_type": "error",
     "traceback": [
      "\u001b[0;31m---------------------------------------------------------------------------\u001b[0m",
      "\u001b[0;31mTypeError\u001b[0m                                 Traceback (most recent call last)",
      "Cell \u001b[0;32mIn[3], line 28\u001b[0m\n\u001b[1;32m     25\u001b[0m \u001b[38;5;28;01mfor\u001b[39;00m s \u001b[38;5;129;01min\u001b[39;00m [\u001b[38;5;241m0\u001b[39m,\u001b[38;5;241m1\u001b[39m,\u001b[38;5;241m2\u001b[39m,\u001b[38;5;241m3\u001b[39m]:\n\u001b[1;32m     26\u001b[0m     data \u001b[38;5;241m=\u001b[39m my_algo\u001b[38;5;241m.\u001b[39mrun_simulation(temperature\u001b[38;5;241m=\u001b[39mT,volume\u001b[38;5;241m=\u001b[39mvolume,z\u001b[38;5;241m=\u001b[39mz,steps\u001b[38;5;241m=\u001b[39msteps,seed\u001b[38;5;241m=\u001b[39ms,which_vals\u001b[38;5;241m=\u001b[39mwhich_vals,\n\u001b[1;32m     27\u001b[0m                            clear_first\u001b[38;5;241m=\u001b[39m\u001b[38;5;28;01mTrue\u001b[39;00m,parallel\u001b[38;5;241m=\u001b[39m\u001b[38;5;28;01mTrue\u001b[39;00m,wait\u001b[38;5;241m=\u001b[39m\u001b[38;5;28;01mTrue\u001b[39;00m)\n\u001b[0;32m---> 28\u001b[0m     \u001b[43mmy_algo\u001b[49m\u001b[38;5;241;43m.\u001b[39;49m\u001b[43mplot_hist\u001b[49m\u001b[43m(\u001b[49m\u001b[43mdata\u001b[49m\u001b[43m)\u001b[49m\n",
      "File \u001b[0;32m~/compphys_examples/Simulazioni-Atomistiche-Molecolari/mc-GC/src/algorithm.py:118\u001b[0m, in \u001b[0;36mAlgorithm.plot_hist\u001b[0;34m(self, data)\u001b[0m\n\u001b[1;32m    116\u001b[0m \u001b[38;5;28;01mdef\u001b[39;00m\u001b[38;5;250m \u001b[39m\u001b[38;5;21mplot_hist\u001b[39m(\u001b[38;5;28mself\u001b[39m,data):\n\u001b[1;32m    117\u001b[0m     \u001b[38;5;28;01mimport\u001b[39;00m\u001b[38;5;250m \u001b[39m\u001b[38;5;21;01mmatplotlib\u001b[39;00m\u001b[38;5;21;01m.\u001b[39;00m\u001b[38;5;21;01mpyplot\u001b[39;00m\u001b[38;5;250m \u001b[39m\u001b[38;5;28;01mas\u001b[39;00m\u001b[38;5;250m \u001b[39m\u001b[38;5;21;01mplt\u001b[39;00m\n\u001b[0;32m--> 118\u001b[0m     Ns \u001b[38;5;241m=\u001b[39m \u001b[43mdata\u001b[49m\u001b[43m[\u001b[49m\u001b[38;5;124;43m'\u001b[39;49m\u001b[38;5;124;43mN\u001b[39;49m\u001b[38;5;124;43m'\u001b[39;49m\u001b[43m]\u001b[49m\n\u001b[1;32m    120\u001b[0m     plt\u001b[38;5;241m.\u001b[39mhist(Ns)\n",
      "\u001b[0;31mTypeError\u001b[0m: 'int' object is not subscriptable"
     ]
    },
    {
     "name": "stdout",
     "output_type": "stream",
     "text": [
      "Progress 0: 0%, N=91, d=0.137\n",
      "Progress 0: 4%, N=76, d=0.114\n",
      "Progress 0: 9%, N=73, d=0.11\n",
      "Progress 0: 14%, N=84, d=0.126\n",
      "Progress 0: 19%, N=77, d=0.116\n",
      "Progress 0: 24%, N=84, d=0.126\n",
      "Progress 0: 28%, N=82, d=0.123\n",
      "Progress 0: 33%, N=80, d=0.12\n",
      "Progress 0: 38%, N=81, d=0.122\n",
      "Progress 0: 43%, N=92, d=0.138\n",
      "Progress 0: 48%, N=94, d=0.141\n",
      "Progress 0: 52%, N=111, d=0.167\n",
      "Progress 0: 57%, N=134, d=0.201\n",
      "Progress 0: 62%, N=166, d=0.249\n",
      "Progress 0: 67%, N=183, d=0.275\n",
      "Progress 0: 72%, N=172, d=0.258\n",
      "Progress 0: 76%, N=186, d=0.279\n",
      "Progress 0: 81%, N=186, d=0.279\n",
      "Progress 0: 86%, N=148, d=0.222\n",
      "Progress 0: 91%, N=163, d=0.245\n",
      "Progress 0: 96%, N=133, d=0.2\n"
     ]
    }
   ],
   "source": [
    "# import src.system\n",
    "# import time\n",
    "# import src.timer as timer\n",
    "# import numpy as np\n",
    "\n",
    "\n",
    "import src.algorithm as algo\n",
    "import pantarei as rei\n",
    "\n",
    "my_algo = algo.Algorithm()\n",
    "\n",
    "# Ts = [10,11,12,113]\n",
    "# for T in Ts:\n",
    "    # my_algo.run_simulation(temperature=T,volume=10,z=10,steps=200,clear_first=False,parallel=True,wait=True)\n",
    "\n",
    "which_vals = {'energy': True, 'pressure': False, 'density': False, 'N': True}\n",
    "print(which_vals)\n",
    "\n",
    "\n",
    "steps = 2.5e2\n",
    "volume = 8.735**3\n",
    "T = 1.175\n",
    "z = 0.0625\n",
    "\n",
    "for s in [0,1,2,3]:\n",
    "    data = my_algo.run_simulation(temperature=T,volume=volume,z=z,steps=steps,seed=s,which_vals=which_vals,\n",
    "                           clear_first=True,parallel=True,wait=True)\n",
    "    my_algo.plot_hist(data)\n"
   ]
  },
  {
   "cell_type": "code",
   "execution_count": 4,
   "id": "a6185f43",
   "metadata": {},
   "outputs": [
    {
     "name": "stdout",
     "output_type": "stream",
     "text": [
      "✅ ended   100% [1/1]\n",
      "   ✅ simulation_GC/ae9700e3f8e0336f8ba73a1000137599 0:00:03 simulation_GC(kwargs={'temperature': 1.175, 'volume': 666.4824653749998, 'z': 0.0625, 'steps': 2 ...\n"
     ]
    }
   ],
   "source": [
    "rei.report()"
   ]
  }
 ],
 "metadata": {
  "kernelspec": {
   "display_name": "myenv",
   "language": "python",
   "name": "myenv"
  },
  "language_info": {
   "codemirror_mode": {
    "name": "ipython",
    "version": 3
   },
   "file_extension": ".py",
   "mimetype": "text/x-python",
   "name": "python",
   "nbconvert_exporter": "python",
   "pygments_lexer": "ipython3",
   "version": "3.10.12"
  }
 },
 "nbformat": 4,
 "nbformat_minor": 5
}
