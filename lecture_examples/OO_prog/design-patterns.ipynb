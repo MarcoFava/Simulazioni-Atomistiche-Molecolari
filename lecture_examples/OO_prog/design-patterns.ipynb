{
 "cells": [
  {
   "cell_type": "code",
   "execution_count": null,
   "metadata": {},
   "outputs": [
    {
     "name": "stdout",
     "output_type": "stream",
     "text": [
      "INFO: hello!\n"
     ]
    }
   ],
   "source": [
    "class Logger:\n",
    "\n",
    "    _instance = None\n",
    "\n",
    "    def __new__(cls, *args, **kwargs):\n",
    "        if not cls._instance:\n",
    "            cls._instance = super().__new__(cls)\n",
    "            cls._instance.__init__(*args, **kwargs)\n",
    "        return cls._instance\n",
    "\n",
    "    def __init__(self, verbosity=1):\n",
    "        self.verbosity = verbosity\n",
    "\n",
    "    def info(self, message):\n",
    "        if self.verbosity > 0:\n",
    "            print('INFO:', message)\n",
    "\n",
    "logger = Logger()\n",
    "logger.info('hello!')\n",
    "logger.verbosity = 0\n",
    "logger.info('hello!')"
   ]
  },
  {
   "cell_type": "code",
   "execution_count": null,
   "metadata": {},
   "outputs": [
    {
     "name": "stdout",
     "output_type": "stream",
     "text": [
      "True\n"
     ]
    }
   ],
   "source": [
    "new_logger = Logger()\n",
    "print(logger is new_logger)"
   ]
  },
  {
   "cell_type": "code",
   "execution_count": 3,
   "metadata": {},
   "outputs": [
    {
     "name": "stdout",
     "output_type": "stream",
     "text": [
      "INFO: hello!\n"
     ]
    }
   ],
   "source": [
    "class _Logger:\n",
    "\n",
    "    def __init__(self):\n",
    "        self.verbosity = 1\n",
    "\n",
    "    def info(self, message):\n",
    "        if self.verbosity > 0:\n",
    "            print('INFO:', message)\n",
    "\n",
    "_logger = _Logger()\n",
    "\n",
    "def Logger():\n",
    "    return _logger\n",
    "\n",
    "logger = Logger()\n",
    "new_logger = Logger()\n",
    "new_logger.info('hello!')\n",
    "assert logger is new_logger"
   ]
  },
  {
   "cell_type": "code",
   "execution_count": 1,
   "metadata": {},
   "outputs": [
    {
     "name": "stdout",
     "output_type": "stream",
     "text": [
      "INFO: hello!\n"
     ]
    }
   ],
   "source": [
    "import logger\n",
    "logger.info('hello!')"
   ]
  },
  {
   "cell_type": "code",
   "execution_count": 3,
   "metadata": {},
   "outputs": [],
   "source": [
    "logger.verbosity = \"AWA\"\n",
    "logger.info('ciao')"
   ]
  },
  {
   "cell_type": "code",
   "execution_count": 4,
   "metadata": {},
   "outputs": [
    {
     "name": "stdout",
     "output_type": "stream",
     "text": [
      "INFO: ciao\n"
     ]
    }
   ],
   "source": [
    "logger.verbosity = \"INFO\"\n",
    "logger.info('ciao')"
   ]
  },
  {
   "cell_type": "markdown",
   "metadata": {},
   "source": []
  },
  {
   "cell_type": "code",
   "execution_count": 10,
   "metadata": {},
   "outputs": [],
   "source": [
    "class Scheduler:\n",
    "\n",
    "    def __init__(self):\n",
    "        # Each callback is callable\n",
    "        self._callbacks = []\n",
    "        # Each schedule is a scheduling scheme described by a tuple\n",
    "        # of the format (scheme, params), where scheme is a string\n",
    "        # and params is a variable with scheduling parameters\n",
    "        self._schedules = []\n",
    "\n",
    "    def register(self, callback, interval):\n",
    "        \"\"\"Register a `callback` to be called every `interval` number of steps\"\"\"\n",
    "        self._callbacks.append(callback)\n",
    "        self._schedules.append((\"linear\", interval))\n",
    "\n",
    "    def _must_notify(self, schedule, step):\n",
    "        \"\"\"Return `True` if we must call callbacks according to `schedule`\"\"\"\n",
    "        if schedule[0] == \"linear\":\n",
    "            interval = schedule[1]\n",
    "            return step % interval == 0\n",
    "        return False\n",
    "\n",
    "    def notify(self, current_step, simulation):\n",
    "        \"\"\"Call callbacks that must be called at the given `current_step`\"\"\"\n",
    "        for callback, schedule in zip(self._callbacks, self._schedules):\n",
    "            if self._must_notify(schedule, current_step):\n",
    "                callback(simulation)\n",
    "    def next(self, current_step):\n",
    "        next_step = current_step + 1\n",
    "        for schedule in self._schedules:\n",
    "            # TODO: update next_step according to schedule\n",
    "            pass\n",
    "        return next_step"
   ]
  },
  {
   "cell_type": "code",
   "execution_count": 6,
   "metadata": {},
   "outputs": [],
   "source": [
    "class Simulation:\n",
    "\n",
    "    def __init__(self, algorithm):\n",
    "        self.algorithm = algorithm\n",
    "        self.scheduler = Scheduler()\n",
    "        self.current_step = 0\n",
    "\n",
    "    def run(self, steps):\n",
    "        for _ in range(steps):\n",
    "            self.algorithm.run(1)\n",
    "            self.current_step += 1\n",
    "            self.scheduler.notify(self.current_step, self)\n",
    "            if self.current_step >= steps:\n",
    "                break"
   ]
  },
  {
   "cell_type": "code",
   "execution_count": 7,
   "metadata": {},
   "outputs": [
    {
     "name": "stdout",
     "output_type": "stream",
     "text": [
      ".....v.....v.....v.....v"
     ]
    }
   ],
   "source": [
    "class MonteCarlo:\n",
    "\n",
    "    def run(self, steps):\n",
    "        print(f'.', end='')\n",
    "        pass\n",
    "\n",
    "# Test callback\n",
    "def hello_world(simulation):\n",
    "    print('v', end='')\n",
    "\n",
    "algorithm = MonteCarlo()\n",
    "simulation = Simulation(algorithm)\n",
    "simulation.scheduler.register(hello_world, interval=5)\n",
    "simulation.run(20)"
   ]
  },
  {
   "cell_type": "code",
   "execution_count": null,
   "metadata": {},
   "outputs": [],
   "source": []
  }
 ],
 "metadata": {
  "kernelspec": {
   "display_name": "sam-env",
   "language": "python",
   "name": "sam-env"
  },
  "language_info": {
   "codemirror_mode": {
    "name": "ipython",
    "version": 3
   },
   "file_extension": ".py",
   "mimetype": "text/x-python",
   "name": "python",
   "nbconvert_exporter": "python",
   "pygments_lexer": "ipython3",
   "version": "3.10.12"
  }
 },
 "nbformat": 4,
 "nbformat_minor": 2
}
