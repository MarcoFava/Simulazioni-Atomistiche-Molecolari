{
 "cells": [
  {
   "cell_type": "markdown",
   "metadata": {},
   "source": [
    "**import packages**"
   ]
  },
  {
   "cell_type": "code",
   "execution_count": 2,
   "metadata": {},
   "outputs": [
    {
     "ename": "ModuleNotFoundError",
     "evalue": "No module named 'py3Dmol'",
     "output_type": "error",
     "traceback": [
      "\u001b[0;31m---------------------------------------------------------------------------\u001b[0m",
      "\u001b[0;31mModuleNotFoundError\u001b[0m                       Traceback (most recent call last)",
      "Cell \u001b[0;32mIn[2], line 1\u001b[0m\n\u001b[0;32m----> 1\u001b[0m \u001b[38;5;28;01mimport\u001b[39;00m\u001b[38;5;250m \u001b[39m\u001b[38;5;21;01mpy3Dmol\u001b[39;00m\n",
      "\u001b[0;31mModuleNotFoundError\u001b[0m: No module named 'py3Dmol'"
     ]
    }
   ],
   "source": [
    "import py3Dmol"
   ]
  },
  {
   "cell_type": "markdown",
   "metadata": {},
   "source": [
    "define function to ..."
   ]
  },
  {
   "cell_type": "code",
   "execution_count": 5,
   "metadata": {},
   "outputs": [],
   "source": [
    "def visualize_3dmol(positions, cell=None, colors=None, radii=None, chain=False,\n",
    "                    center=None, color='white', radius=0.5):\n",
    "    \"\"\"\n",
    "    Visualize a particle configuration using 3dmol http://3dmol.csb.pitt.edu/\n",
    "    \"\"\"\n",
    "    import py3Dmol\n",
    "    if center is None:\n",
    "        center = [0.5] * len(cell)\n",
    "    if colors is None:\n",
    "        colors = [color] * len(positions)\n",
    "    if radii is None:\n",
    "        radii = [radius] * len(positions)\n",
    "    view = py3Dmol.view()\n",
    "    view.setBackgroundColor('white')\n",
    "    for i in range(len(positions)):\n",
    "        view.addSphere({'center': {'x': positions[i][0],\n",
    "                                   'y': positions[i][1],\n",
    "                                   'z': positions[i][2]},\n",
    "                        'radius': radii[i], 'color': colors[i]})\n",
    "    if chain:\n",
    "        for i in range(1, len(positions)):\n",
    "            view.addCylinder({'start': {'x': positions[i-1][0],\n",
    "                                        'y': positions[i-1][1],\n",
    "                                        'z': positions[i-1][2]},\n",
    "                              'end': {'x': positions[i][0],\n",
    "                                      'y': positions[i][1],\n",
    "                                      'z': positions[i][2]},\n",
    "                              'color': 'white'})\n",
    "    if cell is not None:\n",
    "        view.addBox({'center': {'x': center[0], 'y': center[1], 'z': center[2]},\n",
    "                     'dimensions': {'w': cell[0], 'h': cell[1], 'd': cell[2]},\n",
    "                     'wireframe': True, 'color': \"#000000\"})\n",
    "    return view"
   ]
  },
  {
   "cell_type": "markdown",
   "metadata": {},
   "source": [
    "visualize the trial hard spheres:"
   ]
  },
  {
   "cell_type": "code",
   "execution_count": 1,
   "metadata": {},
   "outputs": [
    {
     "ename": "NameError",
     "evalue": "name 'visualize_3dmol' is not defined",
     "output_type": "error",
     "traceback": [
      "\u001b[0;31m---------------------------------------------------------------------------\u001b[0m",
      "\u001b[0;31mNameError\u001b[0m                                 Traceback (most recent call last)",
      "Cell \u001b[0;32mIn[1], line 1\u001b[0m\n\u001b[0;32m----> 1\u001b[0m \u001b[43mvisualize_3dmol\u001b[49m([[\u001b[38;5;241m0\u001b[39m, \u001b[38;5;241m0\u001b[39m, \u001b[38;5;241m0\u001b[39m], [\u001b[38;5;241m1\u001b[39m, \u001b[38;5;241m0\u001b[39m, \u001b[38;5;241m0\u001b[39m]], cell\u001b[38;5;241m=\u001b[39m[\u001b[38;5;241m2\u001b[39m, \u001b[38;5;241m2\u001b[39m, \u001b[38;5;241m2\u001b[39m])\n",
      "\u001b[0;31mNameError\u001b[0m: name 'visualize_3dmol' is not defined"
     ]
    }
   ],
   "source": [
    "visualize_3dmol([[0, 0, 0], [1, 0, 0]], cell=[2, 2, 2])"
   ]
  },
  {
   "cell_type": "markdown",
   "metadata": {},
   "source": [
    "get the positions from the simulations"
   ]
  },
  {
   "cell_type": "code",
   "execution_count": 3,
   "metadata": {},
   "outputs": [
    {
     "data": {
      "text/plain": [
       "[[-1.6815888882, -2.2107083797, -2.2714552879],\n",
       " [-1.774367094, -1.2761312723, -1.4874548912],\n",
       " [-1.1033740044, -1.3422017097, -2.3701331615],\n",
       " [-0.9595083594, -2.234159708, -1.5360029936]]"
      ]
     },
     "execution_count": 3,
     "metadata": {},
     "output_type": "execute_result"
    }
   ],
   "source": [
    "def read_positions(filename):\n",
    "    r = []\n",
    "    with open(filename,\"r\") as f:\n",
    "        for line in f:\n",
    "            line = line.split()\n",
    "            if line:\n",
    "                line = [float(i) for i in line]\n",
    "                r.append(line)\n",
    "        r = r[2:]\n",
    "    return r\n",
    "\n",
    "read_positions(\"cnf.out\")[:4]"
   ]
  },
  {
   "cell_type": "code",
   "execution_count": 6,
   "metadata": {},
   "outputs": [
    {
     "data": {
      "application/3dmoljs_load.v0": "<div id=\"3dmolviewer_17428140613350265\"  style=\"position: relative; width: 640px; height: 480px;\">\n        <p id=\"3dmolwarning_17428140613350265\" style=\"background-color:#ffcccc;color:black\">3Dmol.js failed to load for some reason.  Please check your browser console for error messages.<br></p>\n        </div>\n<script>\n\nvar loadScriptAsync = function(uri){\n  return new Promise((resolve, reject) => {\n    //this is to ignore the existence of requirejs amd\n    var savedexports, savedmodule;\n    if (typeof exports !== 'undefined') savedexports = exports;\n    else exports = {}\n    if (typeof module !== 'undefined') savedmodule = module;\n    else module = {}\n\n    var tag = document.createElement('script');\n    tag.src = uri;\n    tag.async = true;\n    tag.onload = () => {\n        exports = savedexports;\n        module = savedmodule;\n        resolve();\n    };\n  var firstScriptTag = document.getElementsByTagName('script')[0];\n  firstScriptTag.parentNode.insertBefore(tag, firstScriptTag);\n});\n};\n\nif(typeof $3Dmolpromise === 'undefined') {\n$3Dmolpromise = null;\n  $3Dmolpromise = loadScriptAsync('https://cdnjs.cloudflare.com/ajax/libs/3Dmol/2.4.2/3Dmol-min.js');\n}\n\nvar viewer_17428140613350265 = null;\nvar warn = document.getElementById(\"3dmolwarning_17428140613350265\");\nif(warn) {\n    warn.parentNode.removeChild(warn);\n}\n$3Dmolpromise.then(function() {\nviewer_17428140613350265 = $3Dmol.createViewer(document.getElementById(\"3dmolviewer_17428140613350265\"),{backgroundColor:\"white\"});\nviewer_17428140613350265.zoomTo();\n\tviewer_17428140613350265.setBackgroundColor(\"white\");\n\tviewer_17428140613350265.addSphere({\"center\": {\"x\": -1.6815888882, \"y\": -2.2107083797, \"z\": -2.2714552879}, \"radius\": 0.5, \"color\": \"white\"});\n\tviewer_17428140613350265.addSphere({\"center\": {\"x\": -1.774367094, \"y\": -1.2761312723, \"z\": -1.4874548912}, \"radius\": 0.5, \"color\": \"white\"});\n\tviewer_17428140613350265.addSphere({\"center\": {\"x\": -1.1033740044, \"y\": -1.3422017097, \"z\": -2.3701331615}, \"radius\": 0.5, \"color\": \"white\"});\n\tviewer_17428140613350265.addSphere({\"center\": {\"x\": -0.9595083594, \"y\": -2.234159708, \"z\": -1.5360029936}, \"radius\": 0.5, \"color\": \"white\"});\n\tviewer_17428140613350265.addSphere({\"center\": {\"x\": -0.1636218131, \"y\": -2.2708106041, \"z\": -2.2970685959}, \"radius\": 0.5, \"color\": \"white\"});\n\tviewer_17428140613350265.addSphere({\"center\": {\"x\": -0.3371753097, \"y\": -1.3684705496, \"z\": -1.5889089108}, \"radius\": 0.5, \"color\": \"white\"});\n\tviewer_17428140613350265.addSphere({\"center\": {\"x\": 0.5390000343, \"y\": -1.3850309849, \"z\": -2.2848536968}, \"radius\": 0.5, \"color\": \"white\"});\n\tviewer_17428140613350265.addSphere({\"center\": {\"x\": 0.6017645597, \"y\": -2.1981878281, \"z\": -1.5092853308}, \"radius\": 0.5, \"color\": \"white\"});\n\tviewer_17428140613350265.addSphere({\"center\": {\"x\": 1.5226892233, \"y\": -2.2834620476, \"z\": -2.2952544689}, \"radius\": 0.5, \"color\": \"white\"});\n\tviewer_17428140613350265.addSphere({\"center\": {\"x\": 1.3975639343, \"y\": -1.4227442741, \"z\": -1.6528450251}, \"radius\": 0.5, \"color\": \"white\"});\n\tviewer_17428140613350265.addSphere({\"center\": {\"x\": 2.3723654747, \"y\": -1.4769285917, \"z\": -2.3382210732}, \"radius\": 0.5, \"color\": \"white\"});\n\tviewer_17428140613350265.addSphere({\"center\": {\"x\": -2.3802947998, \"y\": -2.1576728821, \"z\": -1.5524629354}, \"radius\": 0.5, \"color\": \"white\"});\n\tviewer_17428140613350265.addSphere({\"center\": {\"x\": -1.6618528366, \"y\": -0.4771451056, \"z\": -2.2416784763}, \"radius\": 0.5, \"color\": \"white\"});\n\tviewer_17428140613350265.addSphere({\"center\": {\"x\": -1.5872610807, \"y\": 0.2702708244, \"z\": -1.506165266}, \"radius\": 0.5, \"color\": \"white\"});\n\tviewer_17428140613350265.addSphere({\"center\": {\"x\": -0.8699658513, \"y\": 0.3266640007, \"z\": -2.2468841076}, \"radius\": 0.5, \"color\": \"white\"});\n\tviewer_17428140613350265.addSphere({\"center\": {\"x\": -0.9450597763, \"y\": -0.5412852764, \"z\": -1.4991035461}, \"radius\": 0.5, \"color\": \"white\"});\n\tviewer_17428140613350265.addSphere({\"center\": {\"x\": -0.1328389198, \"y\": -0.4722034037, \"z\": -2.2089757919}, \"radius\": 0.5, \"color\": \"white\"});\n\tviewer_17428140613350265.addSphere({\"center\": {\"x\": -0.1654396355, \"y\": 0.339170903, \"z\": -1.4582500458}, \"radius\": 0.5, \"color\": \"white\"});\n\tviewer_17428140613350265.addSphere({\"center\": {\"x\": 0.8029592037, \"y\": 0.2643012106, \"z\": -2.314278841}, \"radius\": 0.5, \"color\": \"white\"});\n\tviewer_17428140613350265.addSphere({\"center\": {\"x\": 0.5994287133, \"y\": -0.3616289794, \"z\": -1.5331075191}, \"radius\": 0.5, \"color\": \"white\"});\n\tviewer_17428140613350265.addSphere({\"center\": {\"x\": 1.5863833427, \"y\": -0.3902717233, \"z\": -2.371073246}, \"radius\": 0.5, \"color\": \"white\"});\n\tviewer_17428140613350265.addSphere({\"center\": {\"x\": 1.592936635, \"y\": 0.2815656662, \"z\": -1.5679512024}, \"radius\": 0.5, \"color\": \"white\"});\n\tviewer_17428140613350265.addSphere({\"center\": {\"x\": 2.3205416203, \"y\": 0.3492787182, \"z\": -2.2847380638}, \"radius\": 0.5, \"color\": \"white\"});\n\tviewer_17428140613350265.addSphere({\"center\": {\"x\": 2.1992211342, \"y\": -0.5169481039, \"z\": -1.5832520723}, \"radius\": 0.5, \"color\": \"white\"});\n\tviewer_17428140613350265.addSphere({\"center\": {\"x\": -1.7421257496, \"y\": 1.0860004425, \"z\": -2.3281035423}, \"radius\": 0.5, \"color\": \"white\"});\n\tviewer_17428140613350265.addSphere({\"center\": {\"x\": -1.7176692486, \"y\": 1.843178153, \"z\": -1.5354492664}, \"radius\": 0.5, \"color\": \"white\"});\n\tviewer_17428140613350265.addSphere({\"center\": {\"x\": -0.9360334277, \"y\": 1.7027808428, \"z\": 2.3683516979}, \"radius\": 0.5, \"color\": \"white\"});\n\tviewer_17428140613350265.addSphere({\"center\": {\"x\": -0.9055638313, \"y\": 1.0571959019, \"z\": -1.5221171379}, \"radius\": 0.5, \"color\": \"white\"});\n\tviewer_17428140613350265.addSphere({\"center\": {\"x\": -0.0995494202, \"y\": 1.163132906, \"z\": -2.2851843834}, \"radius\": 0.5, \"color\": \"white\"});\n\tviewer_17428140613350265.addSphere({\"center\": {\"x\": -0.1085465029, \"y\": 1.8374425173, \"z\": -1.5068746805}, \"radius\": 0.5, \"color\": \"white\"});\n\tviewer_17428140613350265.addSphere({\"center\": {\"x\": 0.7978583574, \"y\": 1.7564532757, \"z\": -2.3252000809}, \"radius\": 0.5, \"color\": \"white\"});\n\tviewer_17428140613350265.addSphere({\"center\": {\"x\": 0.726917088, \"y\": 0.9238703847, \"z\": -1.5278376341}, \"radius\": 0.5, \"color\": \"white\"});\n\tviewer_17428140613350265.addSphere({\"center\": {\"x\": 1.5325196981, \"y\": 1.0447869301, \"z\": -2.2748789787}, \"radius\": 0.5, \"color\": \"white\"});\n\tviewer_17428140613350265.addSphere({\"center\": {\"x\": 1.3344503641, \"y\": 1.81014359, \"z\": -1.452013135}, \"radius\": 0.5, \"color\": \"white\"});\n\tviewer_17428140613350265.addSphere({\"center\": {\"x\": 2.2999835014, \"y\": 1.79857862, \"z\": -2.2262055874}, \"radius\": 0.5, \"color\": \"white\"});\n\tviewer_17428140613350265.addSphere({\"center\": {\"x\": 2.366920948, \"y\": 0.9952198267, \"z\": -1.4507927895}, \"radius\": 0.5, \"color\": \"white\"});\n\tviewer_17428140613350265.addSphere({\"center\": {\"x\": -1.7491135597, \"y\": -2.0740566254, \"z\": -0.7812308669}, \"radius\": 0.5, \"color\": \"white\"});\n\tviewer_17428140613350265.addSphere({\"center\": {\"x\": -1.8998719454, \"y\": -1.3825621605, \"z\": -0.0336406343}, \"radius\": 0.5, \"color\": \"white\"});\n\tviewer_17428140613350265.addSphere({\"center\": {\"x\": -0.7609075308, \"y\": -1.2207721472, \"z\": -0.689956367}, \"radius\": 0.5, \"color\": \"white\"});\n\tviewer_17428140613350265.addSphere({\"center\": {\"x\": -0.9528756738, \"y\": -1.8932054043, \"z\": 0.0688776821}, \"radius\": 0.5, \"color\": \"white\"});\n\tviewer_17428140613350265.addSphere({\"center\": {\"x\": -0.1555504501, \"y\": -2.0206997395, \"z\": -0.6237677336}, \"radius\": 0.5, \"color\": \"white\"});\n\tviewer_17428140613350265.addSphere({\"center\": {\"x\": -0.1433278769, \"y\": -1.3061499596, \"z\": 0.1176480576}, \"radius\": 0.5, \"color\": \"white\"});\n\tviewer_17428140613350265.addSphere({\"center\": {\"x\": 0.5943222642, \"y\": -1.2906746864, \"z\": -1.067471385}, \"radius\": 0.5, \"color\": \"white\"});\n\tviewer_17428140613350265.addSphere({\"center\": {\"x\": 0.6214543581, \"y\": -1.9987686872, \"z\": 0.1497523636}, \"radius\": 0.5, \"color\": \"white\"});\n\tviewer_17428140613350265.addSphere({\"center\": {\"x\": 1.3369393349, \"y\": -1.9988780022, \"z\": -0.7729367614}, \"radius\": 0.5, \"color\": \"white\"});\n\tviewer_17428140613350265.addSphere({\"center\": {\"x\": 1.6275472641, \"y\": -1.2204825878, \"z\": 0.0523342565}, \"radius\": 0.5, \"color\": \"white\"});\n\tviewer_17428140613350265.addSphere({\"center\": {\"x\": 2.090657711, \"y\": -1.3002120256, \"z\": -0.8783773184}, \"radius\": 0.5, \"color\": \"white\"});\n\tviewer_17428140613350265.addSphere({\"center\": {\"x\": 2.171769619, \"y\": -2.1387455463, \"z\": 0.0641487017}, \"radius\": 0.5, \"color\": \"white\"});\n\tviewer_17428140613350265.addSphere({\"center\": {\"x\": -1.5749977827, \"y\": -0.4562877119, \"z\": -0.6724178195}, \"radius\": 0.5, \"color\": \"white\"});\n\tviewer_17428140613350265.addSphere({\"center\": {\"x\": -1.6959594488, \"y\": 0.3973830342, \"z\": 0.1674298793}, \"radius\": 0.5, \"color\": \"white\"});\n\tviewer_17428140613350265.addSphere({\"center\": {\"x\": -0.8517051935, \"y\": 0.2494640201, \"z\": -0.6787834167}, \"radius\": 0.5, \"color\": \"white\"});\n\tviewer_17428140613350265.addSphere({\"center\": {\"x\": -0.7925963998, \"y\": -0.5284788609, \"z\": 0.0556288213}, \"radius\": 0.5, \"color\": \"white\"});\n\tviewer_17428140613350265.addSphere({\"center\": {\"x\": -0.067298457, \"y\": -0.4744579494, \"z\": -0.7742801309}, \"radius\": 0.5, \"color\": \"white\"});\n\tviewer_17428140613350265.addSphere({\"center\": {\"x\": -0.0712698549, \"y\": 0.1907422543, \"z\": 0.2095081061}, \"radius\": 0.5, \"color\": \"white\"});\n\tviewer_17428140613350265.addSphere({\"center\": {\"x\": 0.6140304208, \"y\": 0.2854158282, \"z\": -0.6933018565}, \"radius\": 0.5, \"color\": \"white\"});\n\tviewer_17428140613350265.addSphere({\"center\": {\"x\": 0.7322209477, \"y\": -0.6870213747, \"z\": -0.0105153266}, \"radius\": 0.5, \"color\": \"white\"});\n\tviewer_17428140613350265.addSphere({\"center\": {\"x\": 1.4477636814, \"y\": -0.4848169982, \"z\": -0.7731260061}, \"radius\": 0.5, \"color\": \"white\"});\n\tviewer_17428140613350265.addSphere({\"center\": {\"x\": 1.3833940029, \"y\": 0.0960316658, \"z\": 0.157371968}, \"radius\": 0.5, \"color\": \"white\"});\n\tviewer_17428140613350265.addSphere({\"center\": {\"x\": 2.1509468555, \"y\": 0.3330252469, \"z\": -0.7045570612}, \"radius\": 0.5, \"color\": \"white\"});\n\tviewer_17428140613350265.addSphere({\"center\": {\"x\": -2.3240563869, \"y\": -0.4431473613, \"z\": -0.0041191741}, \"radius\": 0.5, \"color\": \"white\"});\n\tviewer_17428140613350265.addSphere({\"center\": {\"x\": -1.6406224966, \"y\": 1.1048079729, \"z\": -0.7222892046}, \"radius\": 0.5, \"color\": \"white\"});\n\tviewer_17428140613350265.addSphere({\"center\": {\"x\": -1.8297250271, \"y\": 1.9419820309, \"z\": 0.0448553935}, \"radius\": 0.5, \"color\": \"white\"});\n\tviewer_17428140613350265.addSphere({\"center\": {\"x\": -0.9038038254, \"y\": 1.9854251146, \"z\": -0.6126034856}, \"radius\": 0.5, \"color\": \"white\"});\n\tviewer_17428140613350265.addSphere({\"center\": {\"x\": -0.9381833076, \"y\": 1.1374936104, \"z\": 0.0290874541}, \"radius\": 0.5, \"color\": \"white\"});\n\tviewer_17428140613350265.addSphere({\"center\": {\"x\": -0.170533374, \"y\": 1.1737581491, \"z\": -0.7364364266}, \"radius\": 0.5, \"color\": \"white\"});\n\tviewer_17428140613350265.addSphere({\"center\": {\"x\": -0.0559214167, \"y\": 1.7214618921, \"z\": 0.0981615707}, \"radius\": 0.5, \"color\": \"white\"});\n\tviewer_17428140613350265.addSphere({\"center\": {\"x\": 0.6249442101, \"y\": 1.8135287762, \"z\": -0.6847239733}, \"radius\": 0.5, \"color\": \"white\"});\n\tviewer_17428140613350265.addSphere({\"center\": {\"x\": 0.6941720843, \"y\": 0.9878196716, \"z\": 0.2542264163}, \"radius\": 0.5, \"color\": \"white\"});\n\tviewer_17428140613350265.addSphere({\"center\": {\"x\": 1.3576148748, \"y\": 1.1201781034, \"z\": -0.6056780815}, \"radius\": 0.5, \"color\": \"white\"});\n\tviewer_17428140613350265.addSphere({\"center\": {\"x\": 1.4233494997, \"y\": 1.9733612537, \"z\": -0.0714298636}, \"radius\": 0.5, \"color\": \"white\"});\n\tviewer_17428140613350265.addSphere({\"center\": {\"x\": 2.2318329811, \"y\": 1.9691728354, \"z\": -0.7830283046}, \"radius\": 0.5, \"color\": \"white\"});\n\tviewer_17428140613350265.addSphere({\"center\": {\"x\": 2.3418073654, \"y\": 1.0836737156, \"z\": -0.0623817854}, \"radius\": 0.5, \"color\": \"white\"});\n\tviewer_17428140613350265.addSphere({\"center\": {\"x\": -1.7392029762, \"y\": -2.0972366333, \"z\": 0.7973313928}, \"radius\": 0.5, \"color\": \"white\"});\n\tviewer_17428140613350265.addSphere({\"center\": {\"x\": -1.7289785147, \"y\": -1.3786871433, \"z\": 1.5964334011}, \"radius\": 0.5, \"color\": \"white\"});\n\tviewer_17428140613350265.addSphere({\"center\": {\"x\": -0.8528199196, \"y\": -1.3511534929, \"z\": 0.913423717}, \"radius\": 0.5, \"color\": \"white\"});\n\tviewer_17428140613350265.addSphere({\"center\": {\"x\": -0.9399935603, \"y\": -2.2232096195, \"z\": 1.6276265383}, \"radius\": 0.5, \"color\": \"white\"});\n\tviewer_17428140613350265.addSphere({\"center\": {\"x\": 0.0210254993, \"y\": -2.244815588, \"z\": 0.917123735}, \"radius\": 0.5, \"color\": \"white\"});\n\tviewer_17428140613350265.addSphere({\"center\": {\"x\": -0.2152614444, \"y\": -1.5272262096, \"z\": 1.6731339693}, \"radius\": 0.5, \"color\": \"white\"});\n\tviewer_17428140613350265.addSphere({\"center\": {\"x\": 0.6033425331, \"y\": -1.3249740601, \"z\": 1.0799366236}, \"radius\": 0.5, \"color\": \"white\"});\n\tviewer_17428140613350265.addSphere({\"center\": {\"x\": 0.7338411212, \"y\": -2.1499416828, \"z\": 1.7324538231}, \"radius\": 0.5, \"color\": \"white\"});\n\tviewer_17428140613350265.addSphere({\"center\": {\"x\": 1.3875210285, \"y\": -2.1158854961, \"z\": 0.7850026488}, \"radius\": 0.5, \"color\": \"white\"});\n\tviewer_17428140613350265.addSphere({\"center\": {\"x\": 1.5538655519, \"y\": -1.3527277708, \"z\": 1.83200109}, \"radius\": 0.5, \"color\": \"white\"});\n\tviewer_17428140613350265.addSphere({\"center\": {\"x\": 2.2397215366, \"y\": -1.1944434643, \"z\": 0.8961865902}, \"radius\": 0.5, \"color\": \"white\"});\n\tviewer_17428140613350265.addSphere({\"center\": {\"x\": 2.1467888355, \"y\": -2.102530241, \"z\": 1.4970675707}, \"radius\": 0.5, \"color\": \"white\"});\n\tviewer_17428140613350265.addSphere({\"center\": {\"x\": -1.6759163141, \"y\": -0.5990493894, \"z\": 0.7702468634}, \"radius\": 0.5, \"color\": \"white\"});\n\tviewer_17428140613350265.addSphere({\"center\": {\"x\": -1.7115639448, \"y\": 0.2678431273, \"z\": 1.5014214516}, \"radius\": 0.5, \"color\": \"white\"});\n\tviewer_17428140613350265.addSphere({\"center\": {\"x\": -0.8544157147, \"y\": 0.1737009138, \"z\": 0.8994275331}, \"radius\": 0.5, \"color\": \"white\"});\n\tviewer_17428140613350265.addSphere({\"center\": {\"x\": -1.0599768162, \"y\": -0.563544035, \"z\": 1.6934010983}, \"radius\": 0.5, \"color\": \"white\"});\n\tviewer_17428140613350265.addSphere({\"center\": {\"x\": -0.0998988971, \"y\": -0.595933497, \"z\": 1.0371854305}, \"radius\": 0.5, \"color\": \"white\"});\n\tviewer_17428140613350265.addSphere({\"center\": {\"x\": -0.1500796974, \"y\": 0.2048276067, \"z\": 1.7990815639}, \"radius\": 0.5, \"color\": \"white\"});\n\tviewer_17428140613350265.addSphere({\"center\": {\"x\": 0.6594370604, \"y\": 0.0564052723, \"z\": 0.9685040712}, \"radius\": 0.5, \"color\": \"white\"});\n\tviewer_17428140613350265.addSphere({\"center\": {\"x\": 0.6145281792, \"y\": -0.5202186108, \"z\": 1.7988892794}, \"radius\": 0.5, \"color\": \"white\"});\n\tviewer_17428140613350265.addSphere({\"center\": {\"x\": 1.442201972, \"y\": -0.6117438078, \"z\": 1.1681940556}, \"radius\": 0.5, \"color\": \"white\"});\n\tviewer_17428140613350265.addSphere({\"center\": {\"x\": 1.6598632336, \"y\": 0.3058936298, \"z\": 1.5859662294}, \"radius\": 0.5, \"color\": \"white\"});\n\tviewer_17428140613350265.addSphere({\"center\": {\"x\": 2.228559494, \"y\": 0.2384528369, \"z\": 0.7416858673}, \"radius\": 0.5, \"color\": \"white\"});\n\tviewer_17428140613350265.addSphere({\"center\": {\"x\": 2.306486845, \"y\": -0.488435179, \"z\": 1.6677165031}, \"radius\": 0.5, \"color\": \"white\"});\n\tviewer_17428140613350265.addSphere({\"center\": {\"x\": -1.6612917185, \"y\": 1.1365740299, \"z\": 0.8784020543}, \"radius\": 0.5, \"color\": \"white\"});\n\tviewer_17428140613350265.addSphere({\"center\": {\"x\": -1.8639684916, \"y\": 1.9253822565, \"z\": 1.6408317089}, \"radius\": 0.5, \"color\": \"white\"});\n\tviewer_17428140613350265.addSphere({\"center\": {\"x\": -0.8199310303, \"y\": 1.9704989195, \"z\": 0.734454155}, \"radius\": 0.5, \"color\": \"white\"});\n\tviewer_17428140613350265.addSphere({\"center\": {\"x\": -0.8743605614, \"y\": 0.9709185362, \"z\": 1.5841608047}, \"radius\": 0.5, \"color\": \"white\"});\n\tviewer_17428140613350265.addSphere({\"center\": {\"x\": -0.0562071763, \"y\": 0.8892624378, \"z\": 0.9351466894}, \"radius\": 0.5, \"color\": \"white\"});\n\tviewer_17428140613350265.addSphere({\"center\": {\"x\": -0.1710501462, \"y\": 1.7157521248, \"z\": 1.5371659994}, \"radius\": 0.5, \"color\": \"white\"});\n\tviewer_17428140613350265.addSphere({\"center\": {\"x\": 0.776740253, \"y\": 1.8336586952, \"z\": 0.8489615917}, \"radius\": 0.5, \"color\": \"white\"});\n\tviewer_17428140613350265.addSphere({\"center\": {\"x\": 0.731148243, \"y\": 1.0680761337, \"z\": 1.5610413551}, \"radius\": 0.5, \"color\": \"white\"});\n\tviewer_17428140613350265.addSphere({\"center\": {\"x\": 1.5097270012, \"y\": 1.1195714474, \"z\": 0.9070882797}, \"radius\": 0.5, \"color\": \"white\"});\n\tviewer_17428140613350265.addSphere({\"center\": {\"x\": 1.5507054329, \"y\": 1.8501051664, \"z\": 1.5923514366}, \"radius\": 0.5, \"color\": \"white\"});\n\tviewer_17428140613350265.addSphere({\"center\": {\"x\": 2.2438511848, \"y\": 1.8843848705, \"z\": 0.8008304834}, \"radius\": 0.5, \"color\": \"white\"});\n\tviewer_17428140613350265.addSphere({\"center\": {\"x\": 2.2593986988, \"y\": 1.1350643635, \"z\": 1.7396669388}, \"radius\": 0.5, \"color\": \"white\"});\n\tviewer_17428140613350265.addBox({\"center\": {\"x\": 0.5, \"y\": 0.5, \"z\": 0.5}, \"dimensions\": {\"w\": 2, \"h\": 2, \"d\": 2}, \"wireframe\": true, \"color\": \"#000000\"});\nviewer_17428140613350265.render();\n});\n</script>",
      "text/html": [
       "<div id=\"3dmolviewer_17428140613350265\"  style=\"position: relative; width: 640px; height: 480px;\">\n",
       "        <p id=\"3dmolwarning_17428140613350265\" style=\"background-color:#ffcccc;color:black\">3Dmol.js failed to load for some reason.  Please check your browser console for error messages.<br></p>\n",
       "        </div>\n",
       "<script>\n",
       "\n",
       "var loadScriptAsync = function(uri){\n",
       "  return new Promise((resolve, reject) => {\n",
       "    //this is to ignore the existence of requirejs amd\n",
       "    var savedexports, savedmodule;\n",
       "    if (typeof exports !== 'undefined') savedexports = exports;\n",
       "    else exports = {}\n",
       "    if (typeof module !== 'undefined') savedmodule = module;\n",
       "    else module = {}\n",
       "\n",
       "    var tag = document.createElement('script');\n",
       "    tag.src = uri;\n",
       "    tag.async = true;\n",
       "    tag.onload = () => {\n",
       "        exports = savedexports;\n",
       "        module = savedmodule;\n",
       "        resolve();\n",
       "    };\n",
       "  var firstScriptTag = document.getElementsByTagName('script')[0];\n",
       "  firstScriptTag.parentNode.insertBefore(tag, firstScriptTag);\n",
       "});\n",
       "};\n",
       "\n",
       "if(typeof $3Dmolpromise === 'undefined') {\n",
       "$3Dmolpromise = null;\n",
       "  $3Dmolpromise = loadScriptAsync('https://cdnjs.cloudflare.com/ajax/libs/3Dmol/2.4.2/3Dmol-min.js');\n",
       "}\n",
       "\n",
       "var viewer_17428140613350265 = null;\n",
       "var warn = document.getElementById(\"3dmolwarning_17428140613350265\");\n",
       "if(warn) {\n",
       "    warn.parentNode.removeChild(warn);\n",
       "}\n",
       "$3Dmolpromise.then(function() {\n",
       "viewer_17428140613350265 = $3Dmol.createViewer(document.getElementById(\"3dmolviewer_17428140613350265\"),{backgroundColor:\"white\"});\n",
       "viewer_17428140613350265.zoomTo();\n",
       "\tviewer_17428140613350265.setBackgroundColor(\"white\");\n",
       "\tviewer_17428140613350265.addSphere({\"center\": {\"x\": -1.6815888882, \"y\": -2.2107083797, \"z\": -2.2714552879}, \"radius\": 0.5, \"color\": \"white\"});\n",
       "\tviewer_17428140613350265.addSphere({\"center\": {\"x\": -1.774367094, \"y\": -1.2761312723, \"z\": -1.4874548912}, \"radius\": 0.5, \"color\": \"white\"});\n",
       "\tviewer_17428140613350265.addSphere({\"center\": {\"x\": -1.1033740044, \"y\": -1.3422017097, \"z\": -2.3701331615}, \"radius\": 0.5, \"color\": \"white\"});\n",
       "\tviewer_17428140613350265.addSphere({\"center\": {\"x\": -0.9595083594, \"y\": -2.234159708, \"z\": -1.5360029936}, \"radius\": 0.5, \"color\": \"white\"});\n",
       "\tviewer_17428140613350265.addSphere({\"center\": {\"x\": -0.1636218131, \"y\": -2.2708106041, \"z\": -2.2970685959}, \"radius\": 0.5, \"color\": \"white\"});\n",
       "\tviewer_17428140613350265.addSphere({\"center\": {\"x\": -0.3371753097, \"y\": -1.3684705496, \"z\": -1.5889089108}, \"radius\": 0.5, \"color\": \"white\"});\n",
       "\tviewer_17428140613350265.addSphere({\"center\": {\"x\": 0.5390000343, \"y\": -1.3850309849, \"z\": -2.2848536968}, \"radius\": 0.5, \"color\": \"white\"});\n",
       "\tviewer_17428140613350265.addSphere({\"center\": {\"x\": 0.6017645597, \"y\": -2.1981878281, \"z\": -1.5092853308}, \"radius\": 0.5, \"color\": \"white\"});\n",
       "\tviewer_17428140613350265.addSphere({\"center\": {\"x\": 1.5226892233, \"y\": -2.2834620476, \"z\": -2.2952544689}, \"radius\": 0.5, \"color\": \"white\"});\n",
       "\tviewer_17428140613350265.addSphere({\"center\": {\"x\": 1.3975639343, \"y\": -1.4227442741, \"z\": -1.6528450251}, \"radius\": 0.5, \"color\": \"white\"});\n",
       "\tviewer_17428140613350265.addSphere({\"center\": {\"x\": 2.3723654747, \"y\": -1.4769285917, \"z\": -2.3382210732}, \"radius\": 0.5, \"color\": \"white\"});\n",
       "\tviewer_17428140613350265.addSphere({\"center\": {\"x\": -2.3802947998, \"y\": -2.1576728821, \"z\": -1.5524629354}, \"radius\": 0.5, \"color\": \"white\"});\n",
       "\tviewer_17428140613350265.addSphere({\"center\": {\"x\": -1.6618528366, \"y\": -0.4771451056, \"z\": -2.2416784763}, \"radius\": 0.5, \"color\": \"white\"});\n",
       "\tviewer_17428140613350265.addSphere({\"center\": {\"x\": -1.5872610807, \"y\": 0.2702708244, \"z\": -1.506165266}, \"radius\": 0.5, \"color\": \"white\"});\n",
       "\tviewer_17428140613350265.addSphere({\"center\": {\"x\": -0.8699658513, \"y\": 0.3266640007, \"z\": -2.2468841076}, \"radius\": 0.5, \"color\": \"white\"});\n",
       "\tviewer_17428140613350265.addSphere({\"center\": {\"x\": -0.9450597763, \"y\": -0.5412852764, \"z\": -1.4991035461}, \"radius\": 0.5, \"color\": \"white\"});\n",
       "\tviewer_17428140613350265.addSphere({\"center\": {\"x\": -0.1328389198, \"y\": -0.4722034037, \"z\": -2.2089757919}, \"radius\": 0.5, \"color\": \"white\"});\n",
       "\tviewer_17428140613350265.addSphere({\"center\": {\"x\": -0.1654396355, \"y\": 0.339170903, \"z\": -1.4582500458}, \"radius\": 0.5, \"color\": \"white\"});\n",
       "\tviewer_17428140613350265.addSphere({\"center\": {\"x\": 0.8029592037, \"y\": 0.2643012106, \"z\": -2.314278841}, \"radius\": 0.5, \"color\": \"white\"});\n",
       "\tviewer_17428140613350265.addSphere({\"center\": {\"x\": 0.5994287133, \"y\": -0.3616289794, \"z\": -1.5331075191}, \"radius\": 0.5, \"color\": \"white\"});\n",
       "\tviewer_17428140613350265.addSphere({\"center\": {\"x\": 1.5863833427, \"y\": -0.3902717233, \"z\": -2.371073246}, \"radius\": 0.5, \"color\": \"white\"});\n",
       "\tviewer_17428140613350265.addSphere({\"center\": {\"x\": 1.592936635, \"y\": 0.2815656662, \"z\": -1.5679512024}, \"radius\": 0.5, \"color\": \"white\"});\n",
       "\tviewer_17428140613350265.addSphere({\"center\": {\"x\": 2.3205416203, \"y\": 0.3492787182, \"z\": -2.2847380638}, \"radius\": 0.5, \"color\": \"white\"});\n",
       "\tviewer_17428140613350265.addSphere({\"center\": {\"x\": 2.1992211342, \"y\": -0.5169481039, \"z\": -1.5832520723}, \"radius\": 0.5, \"color\": \"white\"});\n",
       "\tviewer_17428140613350265.addSphere({\"center\": {\"x\": -1.7421257496, \"y\": 1.0860004425, \"z\": -2.3281035423}, \"radius\": 0.5, \"color\": \"white\"});\n",
       "\tviewer_17428140613350265.addSphere({\"center\": {\"x\": -1.7176692486, \"y\": 1.843178153, \"z\": -1.5354492664}, \"radius\": 0.5, \"color\": \"white\"});\n",
       "\tviewer_17428140613350265.addSphere({\"center\": {\"x\": -0.9360334277, \"y\": 1.7027808428, \"z\": 2.3683516979}, \"radius\": 0.5, \"color\": \"white\"});\n",
       "\tviewer_17428140613350265.addSphere({\"center\": {\"x\": -0.9055638313, \"y\": 1.0571959019, \"z\": -1.5221171379}, \"radius\": 0.5, \"color\": \"white\"});\n",
       "\tviewer_17428140613350265.addSphere({\"center\": {\"x\": -0.0995494202, \"y\": 1.163132906, \"z\": -2.2851843834}, \"radius\": 0.5, \"color\": \"white\"});\n",
       "\tviewer_17428140613350265.addSphere({\"center\": {\"x\": -0.1085465029, \"y\": 1.8374425173, \"z\": -1.5068746805}, \"radius\": 0.5, \"color\": \"white\"});\n",
       "\tviewer_17428140613350265.addSphere({\"center\": {\"x\": 0.7978583574, \"y\": 1.7564532757, \"z\": -2.3252000809}, \"radius\": 0.5, \"color\": \"white\"});\n",
       "\tviewer_17428140613350265.addSphere({\"center\": {\"x\": 0.726917088, \"y\": 0.9238703847, \"z\": -1.5278376341}, \"radius\": 0.5, \"color\": \"white\"});\n",
       "\tviewer_17428140613350265.addSphere({\"center\": {\"x\": 1.5325196981, \"y\": 1.0447869301, \"z\": -2.2748789787}, \"radius\": 0.5, \"color\": \"white\"});\n",
       "\tviewer_17428140613350265.addSphere({\"center\": {\"x\": 1.3344503641, \"y\": 1.81014359, \"z\": -1.452013135}, \"radius\": 0.5, \"color\": \"white\"});\n",
       "\tviewer_17428140613350265.addSphere({\"center\": {\"x\": 2.2999835014, \"y\": 1.79857862, \"z\": -2.2262055874}, \"radius\": 0.5, \"color\": \"white\"});\n",
       "\tviewer_17428140613350265.addSphere({\"center\": {\"x\": 2.366920948, \"y\": 0.9952198267, \"z\": -1.4507927895}, \"radius\": 0.5, \"color\": \"white\"});\n",
       "\tviewer_17428140613350265.addSphere({\"center\": {\"x\": -1.7491135597, \"y\": -2.0740566254, \"z\": -0.7812308669}, \"radius\": 0.5, \"color\": \"white\"});\n",
       "\tviewer_17428140613350265.addSphere({\"center\": {\"x\": -1.8998719454, \"y\": -1.3825621605, \"z\": -0.0336406343}, \"radius\": 0.5, \"color\": \"white\"});\n",
       "\tviewer_17428140613350265.addSphere({\"center\": {\"x\": -0.7609075308, \"y\": -1.2207721472, \"z\": -0.689956367}, \"radius\": 0.5, \"color\": \"white\"});\n",
       "\tviewer_17428140613350265.addSphere({\"center\": {\"x\": -0.9528756738, \"y\": -1.8932054043, \"z\": 0.0688776821}, \"radius\": 0.5, \"color\": \"white\"});\n",
       "\tviewer_17428140613350265.addSphere({\"center\": {\"x\": -0.1555504501, \"y\": -2.0206997395, \"z\": -0.6237677336}, \"radius\": 0.5, \"color\": \"white\"});\n",
       "\tviewer_17428140613350265.addSphere({\"center\": {\"x\": -0.1433278769, \"y\": -1.3061499596, \"z\": 0.1176480576}, \"radius\": 0.5, \"color\": \"white\"});\n",
       "\tviewer_17428140613350265.addSphere({\"center\": {\"x\": 0.5943222642, \"y\": -1.2906746864, \"z\": -1.067471385}, \"radius\": 0.5, \"color\": \"white\"});\n",
       "\tviewer_17428140613350265.addSphere({\"center\": {\"x\": 0.6214543581, \"y\": -1.9987686872, \"z\": 0.1497523636}, \"radius\": 0.5, \"color\": \"white\"});\n",
       "\tviewer_17428140613350265.addSphere({\"center\": {\"x\": 1.3369393349, \"y\": -1.9988780022, \"z\": -0.7729367614}, \"radius\": 0.5, \"color\": \"white\"});\n",
       "\tviewer_17428140613350265.addSphere({\"center\": {\"x\": 1.6275472641, \"y\": -1.2204825878, \"z\": 0.0523342565}, \"radius\": 0.5, \"color\": \"white\"});\n",
       "\tviewer_17428140613350265.addSphere({\"center\": {\"x\": 2.090657711, \"y\": -1.3002120256, \"z\": -0.8783773184}, \"radius\": 0.5, \"color\": \"white\"});\n",
       "\tviewer_17428140613350265.addSphere({\"center\": {\"x\": 2.171769619, \"y\": -2.1387455463, \"z\": 0.0641487017}, \"radius\": 0.5, \"color\": \"white\"});\n",
       "\tviewer_17428140613350265.addSphere({\"center\": {\"x\": -1.5749977827, \"y\": -0.4562877119, \"z\": -0.6724178195}, \"radius\": 0.5, \"color\": \"white\"});\n",
       "\tviewer_17428140613350265.addSphere({\"center\": {\"x\": -1.6959594488, \"y\": 0.3973830342, \"z\": 0.1674298793}, \"radius\": 0.5, \"color\": \"white\"});\n",
       "\tviewer_17428140613350265.addSphere({\"center\": {\"x\": -0.8517051935, \"y\": 0.2494640201, \"z\": -0.6787834167}, \"radius\": 0.5, \"color\": \"white\"});\n",
       "\tviewer_17428140613350265.addSphere({\"center\": {\"x\": -0.7925963998, \"y\": -0.5284788609, \"z\": 0.0556288213}, \"radius\": 0.5, \"color\": \"white\"});\n",
       "\tviewer_17428140613350265.addSphere({\"center\": {\"x\": -0.067298457, \"y\": -0.4744579494, \"z\": -0.7742801309}, \"radius\": 0.5, \"color\": \"white\"});\n",
       "\tviewer_17428140613350265.addSphere({\"center\": {\"x\": -0.0712698549, \"y\": 0.1907422543, \"z\": 0.2095081061}, \"radius\": 0.5, \"color\": \"white\"});\n",
       "\tviewer_17428140613350265.addSphere({\"center\": {\"x\": 0.6140304208, \"y\": 0.2854158282, \"z\": -0.6933018565}, \"radius\": 0.5, \"color\": \"white\"});\n",
       "\tviewer_17428140613350265.addSphere({\"center\": {\"x\": 0.7322209477, \"y\": -0.6870213747, \"z\": -0.0105153266}, \"radius\": 0.5, \"color\": \"white\"});\n",
       "\tviewer_17428140613350265.addSphere({\"center\": {\"x\": 1.4477636814, \"y\": -0.4848169982, \"z\": -0.7731260061}, \"radius\": 0.5, \"color\": \"white\"});\n",
       "\tviewer_17428140613350265.addSphere({\"center\": {\"x\": 1.3833940029, \"y\": 0.0960316658, \"z\": 0.157371968}, \"radius\": 0.5, \"color\": \"white\"});\n",
       "\tviewer_17428140613350265.addSphere({\"center\": {\"x\": 2.1509468555, \"y\": 0.3330252469, \"z\": -0.7045570612}, \"radius\": 0.5, \"color\": \"white\"});\n",
       "\tviewer_17428140613350265.addSphere({\"center\": {\"x\": -2.3240563869, \"y\": -0.4431473613, \"z\": -0.0041191741}, \"radius\": 0.5, \"color\": \"white\"});\n",
       "\tviewer_17428140613350265.addSphere({\"center\": {\"x\": -1.6406224966, \"y\": 1.1048079729, \"z\": -0.7222892046}, \"radius\": 0.5, \"color\": \"white\"});\n",
       "\tviewer_17428140613350265.addSphere({\"center\": {\"x\": -1.8297250271, \"y\": 1.9419820309, \"z\": 0.0448553935}, \"radius\": 0.5, \"color\": \"white\"});\n",
       "\tviewer_17428140613350265.addSphere({\"center\": {\"x\": -0.9038038254, \"y\": 1.9854251146, \"z\": -0.6126034856}, \"radius\": 0.5, \"color\": \"white\"});\n",
       "\tviewer_17428140613350265.addSphere({\"center\": {\"x\": -0.9381833076, \"y\": 1.1374936104, \"z\": 0.0290874541}, \"radius\": 0.5, \"color\": \"white\"});\n",
       "\tviewer_17428140613350265.addSphere({\"center\": {\"x\": -0.170533374, \"y\": 1.1737581491, \"z\": -0.7364364266}, \"radius\": 0.5, \"color\": \"white\"});\n",
       "\tviewer_17428140613350265.addSphere({\"center\": {\"x\": -0.0559214167, \"y\": 1.7214618921, \"z\": 0.0981615707}, \"radius\": 0.5, \"color\": \"white\"});\n",
       "\tviewer_17428140613350265.addSphere({\"center\": {\"x\": 0.6249442101, \"y\": 1.8135287762, \"z\": -0.6847239733}, \"radius\": 0.5, \"color\": \"white\"});\n",
       "\tviewer_17428140613350265.addSphere({\"center\": {\"x\": 0.6941720843, \"y\": 0.9878196716, \"z\": 0.2542264163}, \"radius\": 0.5, \"color\": \"white\"});\n",
       "\tviewer_17428140613350265.addSphere({\"center\": {\"x\": 1.3576148748, \"y\": 1.1201781034, \"z\": -0.6056780815}, \"radius\": 0.5, \"color\": \"white\"});\n",
       "\tviewer_17428140613350265.addSphere({\"center\": {\"x\": 1.4233494997, \"y\": 1.9733612537, \"z\": -0.0714298636}, \"radius\": 0.5, \"color\": \"white\"});\n",
       "\tviewer_17428140613350265.addSphere({\"center\": {\"x\": 2.2318329811, \"y\": 1.9691728354, \"z\": -0.7830283046}, \"radius\": 0.5, \"color\": \"white\"});\n",
       "\tviewer_17428140613350265.addSphere({\"center\": {\"x\": 2.3418073654, \"y\": 1.0836737156, \"z\": -0.0623817854}, \"radius\": 0.5, \"color\": \"white\"});\n",
       "\tviewer_17428140613350265.addSphere({\"center\": {\"x\": -1.7392029762, \"y\": -2.0972366333, \"z\": 0.7973313928}, \"radius\": 0.5, \"color\": \"white\"});\n",
       "\tviewer_17428140613350265.addSphere({\"center\": {\"x\": -1.7289785147, \"y\": -1.3786871433, \"z\": 1.5964334011}, \"radius\": 0.5, \"color\": \"white\"});\n",
       "\tviewer_17428140613350265.addSphere({\"center\": {\"x\": -0.8528199196, \"y\": -1.3511534929, \"z\": 0.913423717}, \"radius\": 0.5, \"color\": \"white\"});\n",
       "\tviewer_17428140613350265.addSphere({\"center\": {\"x\": -0.9399935603, \"y\": -2.2232096195, \"z\": 1.6276265383}, \"radius\": 0.5, \"color\": \"white\"});\n",
       "\tviewer_17428140613350265.addSphere({\"center\": {\"x\": 0.0210254993, \"y\": -2.244815588, \"z\": 0.917123735}, \"radius\": 0.5, \"color\": \"white\"});\n",
       "\tviewer_17428140613350265.addSphere({\"center\": {\"x\": -0.2152614444, \"y\": -1.5272262096, \"z\": 1.6731339693}, \"radius\": 0.5, \"color\": \"white\"});\n",
       "\tviewer_17428140613350265.addSphere({\"center\": {\"x\": 0.6033425331, \"y\": -1.3249740601, \"z\": 1.0799366236}, \"radius\": 0.5, \"color\": \"white\"});\n",
       "\tviewer_17428140613350265.addSphere({\"center\": {\"x\": 0.7338411212, \"y\": -2.1499416828, \"z\": 1.7324538231}, \"radius\": 0.5, \"color\": \"white\"});\n",
       "\tviewer_17428140613350265.addSphere({\"center\": {\"x\": 1.3875210285, \"y\": -2.1158854961, \"z\": 0.7850026488}, \"radius\": 0.5, \"color\": \"white\"});\n",
       "\tviewer_17428140613350265.addSphere({\"center\": {\"x\": 1.5538655519, \"y\": -1.3527277708, \"z\": 1.83200109}, \"radius\": 0.5, \"color\": \"white\"});\n",
       "\tviewer_17428140613350265.addSphere({\"center\": {\"x\": 2.2397215366, \"y\": -1.1944434643, \"z\": 0.8961865902}, \"radius\": 0.5, \"color\": \"white\"});\n",
       "\tviewer_17428140613350265.addSphere({\"center\": {\"x\": 2.1467888355, \"y\": -2.102530241, \"z\": 1.4970675707}, \"radius\": 0.5, \"color\": \"white\"});\n",
       "\tviewer_17428140613350265.addSphere({\"center\": {\"x\": -1.6759163141, \"y\": -0.5990493894, \"z\": 0.7702468634}, \"radius\": 0.5, \"color\": \"white\"});\n",
       "\tviewer_17428140613350265.addSphere({\"center\": {\"x\": -1.7115639448, \"y\": 0.2678431273, \"z\": 1.5014214516}, \"radius\": 0.5, \"color\": \"white\"});\n",
       "\tviewer_17428140613350265.addSphere({\"center\": {\"x\": -0.8544157147, \"y\": 0.1737009138, \"z\": 0.8994275331}, \"radius\": 0.5, \"color\": \"white\"});\n",
       "\tviewer_17428140613350265.addSphere({\"center\": {\"x\": -1.0599768162, \"y\": -0.563544035, \"z\": 1.6934010983}, \"radius\": 0.5, \"color\": \"white\"});\n",
       "\tviewer_17428140613350265.addSphere({\"center\": {\"x\": -0.0998988971, \"y\": -0.595933497, \"z\": 1.0371854305}, \"radius\": 0.5, \"color\": \"white\"});\n",
       "\tviewer_17428140613350265.addSphere({\"center\": {\"x\": -0.1500796974, \"y\": 0.2048276067, \"z\": 1.7990815639}, \"radius\": 0.5, \"color\": \"white\"});\n",
       "\tviewer_17428140613350265.addSphere({\"center\": {\"x\": 0.6594370604, \"y\": 0.0564052723, \"z\": 0.9685040712}, \"radius\": 0.5, \"color\": \"white\"});\n",
       "\tviewer_17428140613350265.addSphere({\"center\": {\"x\": 0.6145281792, \"y\": -0.5202186108, \"z\": 1.7988892794}, \"radius\": 0.5, \"color\": \"white\"});\n",
       "\tviewer_17428140613350265.addSphere({\"center\": {\"x\": 1.442201972, \"y\": -0.6117438078, \"z\": 1.1681940556}, \"radius\": 0.5, \"color\": \"white\"});\n",
       "\tviewer_17428140613350265.addSphere({\"center\": {\"x\": 1.6598632336, \"y\": 0.3058936298, \"z\": 1.5859662294}, \"radius\": 0.5, \"color\": \"white\"});\n",
       "\tviewer_17428140613350265.addSphere({\"center\": {\"x\": 2.228559494, \"y\": 0.2384528369, \"z\": 0.7416858673}, \"radius\": 0.5, \"color\": \"white\"});\n",
       "\tviewer_17428140613350265.addSphere({\"center\": {\"x\": 2.306486845, \"y\": -0.488435179, \"z\": 1.6677165031}, \"radius\": 0.5, \"color\": \"white\"});\n",
       "\tviewer_17428140613350265.addSphere({\"center\": {\"x\": -1.6612917185, \"y\": 1.1365740299, \"z\": 0.8784020543}, \"radius\": 0.5, \"color\": \"white\"});\n",
       "\tviewer_17428140613350265.addSphere({\"center\": {\"x\": -1.8639684916, \"y\": 1.9253822565, \"z\": 1.6408317089}, \"radius\": 0.5, \"color\": \"white\"});\n",
       "\tviewer_17428140613350265.addSphere({\"center\": {\"x\": -0.8199310303, \"y\": 1.9704989195, \"z\": 0.734454155}, \"radius\": 0.5, \"color\": \"white\"});\n",
       "\tviewer_17428140613350265.addSphere({\"center\": {\"x\": -0.8743605614, \"y\": 0.9709185362, \"z\": 1.5841608047}, \"radius\": 0.5, \"color\": \"white\"});\n",
       "\tviewer_17428140613350265.addSphere({\"center\": {\"x\": -0.0562071763, \"y\": 0.8892624378, \"z\": 0.9351466894}, \"radius\": 0.5, \"color\": \"white\"});\n",
       "\tviewer_17428140613350265.addSphere({\"center\": {\"x\": -0.1710501462, \"y\": 1.7157521248, \"z\": 1.5371659994}, \"radius\": 0.5, \"color\": \"white\"});\n",
       "\tviewer_17428140613350265.addSphere({\"center\": {\"x\": 0.776740253, \"y\": 1.8336586952, \"z\": 0.8489615917}, \"radius\": 0.5, \"color\": \"white\"});\n",
       "\tviewer_17428140613350265.addSphere({\"center\": {\"x\": 0.731148243, \"y\": 1.0680761337, \"z\": 1.5610413551}, \"radius\": 0.5, \"color\": \"white\"});\n",
       "\tviewer_17428140613350265.addSphere({\"center\": {\"x\": 1.5097270012, \"y\": 1.1195714474, \"z\": 0.9070882797}, \"radius\": 0.5, \"color\": \"white\"});\n",
       "\tviewer_17428140613350265.addSphere({\"center\": {\"x\": 1.5507054329, \"y\": 1.8501051664, \"z\": 1.5923514366}, \"radius\": 0.5, \"color\": \"white\"});\n",
       "\tviewer_17428140613350265.addSphere({\"center\": {\"x\": 2.2438511848, \"y\": 1.8843848705, \"z\": 0.8008304834}, \"radius\": 0.5, \"color\": \"white\"});\n",
       "\tviewer_17428140613350265.addSphere({\"center\": {\"x\": 2.2593986988, \"y\": 1.1350643635, \"z\": 1.7396669388}, \"radius\": 0.5, \"color\": \"white\"});\n",
       "\tviewer_17428140613350265.addBox({\"center\": {\"x\": 0.5, \"y\": 0.5, \"z\": 0.5}, \"dimensions\": {\"w\": 2, \"h\": 2, \"d\": 2}, \"wireframe\": true, \"color\": \"#000000\"});\n",
       "viewer_17428140613350265.render();\n",
       "});\n",
       "</script>"
      ]
     },
     "metadata": {},
     "output_type": "display_data"
    },
    {
     "data": {
      "text/plain": [
       "<py3Dmol.view at 0x7f6e9020b340>"
      ]
     },
     "execution_count": 6,
     "metadata": {},
     "output_type": "execute_result"
    }
   ],
   "source": [
    "visualize_3dmol(read_positions(\"cnf.out\"), cell=[2, 2, 2])"
   ]
  }
 ],
 "metadata": {
  "kernelspec": {
   "display_name": "my-env",
   "language": "python",
   "name": "my-env"
  },
  "language_info": {
   "codemirror_mode": {
    "name": "ipython",
    "version": 3
   },
   "file_extension": ".py",
   "mimetype": "text/x-python",
   "name": "python",
   "nbconvert_exporter": "python",
   "pygments_lexer": "ipython3",
   "version": "3.10.12"
  }
 },
 "nbformat": 4,
 "nbformat_minor": 4
}
