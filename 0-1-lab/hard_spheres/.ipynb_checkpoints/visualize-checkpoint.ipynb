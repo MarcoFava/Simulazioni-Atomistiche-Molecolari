{
 "cells": [
  {
   "cell_type": "markdown",
   "metadata": {},
   "source": [
    "* import packages"
   ]
  },
  {
   "cell_type": "code",
   "execution_count": null,
   "metadata": {},
   "outputs": [],
   "source": [
    "import py3Dmol"
   ]
  },
  {
   "cell_type": "markdown",
   "metadata": {},
   "source": [
    "define function to ..."
   ]
  },
  {
   "cell_type": "code",
   "execution_count": null,
   "metadata": {},
   "outputs": [],
   "source": [
    "def visualize_3dmol(positions, cell=None, colors=None, radii=None, chain=False,\n",
    "                    center=None, color='white', radius=0.5):\n",
    "    \"\"\"\n",
    "    Visualize a particle configuration using 3dmol http://3dmol.csb.pitt.edu/\n",
    "    \"\"\"\n",
    "    import py3Dmol\n",
    "    if center is None:\n",
    "        center = [0.5] * len(cell)\n",
    "    if colors is None:\n",
    "        colors = [color] * len(positions)\n",
    "    if radii is None:\n",
    "        radii = [radius] * len(positions)\n",
    "    view = py3Dmol.view()\n",
    "    view.setBackgroundColor('white')\n",
    "    for i in range(len(positions)):\n",
    "        view.addSphere({'center': {'x': positions[i][0],\n",
    "                                   'y': positions[i][1],\n",
    "                                   'z': positions[i][2]},\n",
    "                        'radius': radii[i], 'color': colors[i]})\n",
    "    if chain:\n",
    "        for i in range(1, len(positions)):\n",
    "            view.addCylinder({'start': {'x': positions[i-1][0],\n",
    "                                        'y': positions[i-1][1],\n",
    "                                        'z': positions[i-1][2]},\n",
    "                              'end': {'x': positions[i][0],\n",
    "                                      'y': positions[i][1],\n",
    "                                      'z': positions[i][2]},\n",
    "                              'color': 'white'})\n",
    "    if cell is not None:\n",
    "        view.addBox({'center': {'x': center[0], 'y': center[1], 'z': center[2]},\n",
    "                     'dimensions': {'w': cell[0], 'h': cell[1], 'd': cell[2]},\n",
    "                     'wireframe': True, 'color': \"#000000\"})\n",
    "    return view"
   ]
  },
  {
   "cell_type": "markdown",
   "metadata": {},
   "source": [
    "visualize the trial hard spheres:"
   ]
  },
  {
   "cell_type": "code",
   "execution_count": null,
   "metadata": {},
   "outputs": [],
   "source": [
    "visualize_3dmol([[0, 0, 0], [1, 0, 0]], cell=[2, 2, 2])"
   ]
  },
  {
   "cell_type": "markdown",
   "metadata": {},
   "source": [
    "get the positions from the simulations"
   ]
  },
  {
   "cell_type": "code",
   "execution_count": null,
   "metadata": {},
   "outputs": [],
   "source": [
    "def read_positions(filename):\n",
    "    r = []\n",
    "    with open(filename,\"r\") as f:\n",
    "        for line in f:\n",
    "            line = line.split()\n",
    "            if line:\n",
    "                line = [float(i) for i in line]\n",
    "                r.append(line)\n",
    "        r = r[2:]\n",
    "    return r\n",
    "\n",
    "read_positions(\"cnf.out\")[:4]"
   ]
  },
  {
   "cell_type": "code",
   "execution_count": null,
   "metadata": {},
   "outputs": [],
   "source": [
    "visualize_3dmol(read_positions(\"cnf.out\").transpose(), cell=[2, 2, 2])"
   ]
  }
 ],
 "metadata": {
  "kernelspec": {
   "display_name": "Python 3",
   "language": "python",
   "name": "python3"
  },
  "language_info": {
   "name": "python",
   "version": "3.11.5"
  }
 },
 "nbformat": 4,
 "nbformat_minor": 2
}
